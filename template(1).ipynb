{
 "cells": [
  {
   "cell_type": "code",
   "execution_count": 106,
   "metadata": {
    "tags": []
   },
   "outputs": [],
   "source": [
    "#--- Load packages for datasets---\n",
    "from sklearn.datasets import load_iris\n",
    "from sklearn.datasets import load_wine\n",
    "from sklearn.datasets import load_breast_cancer\n",
    "\n",
    "import matplotlib.pyplot as plt\n",
    "#--- Load packages for logistic regression and random forest---\n",
    "from sklearn.linear_model import LogisticRegression\n",
    "from sklearn.ensemble import RandomForestClassifier\n",
    "\n",
    "#--- Load packages for train/test split---\n",
    "from sklearn.model_selection import train_test_split"
   ]
  },
  {
   "cell_type": "code",
   "execution_count": 107,
   "metadata": {},
   "outputs": [],
   "source": [
    "# Now, we will start to train logistic regression models on the Iris and Wine datasets."
   ]
  },
  {
   "cell_type": "code",
   "execution_count": 123,
   "metadata": {},
   "outputs": [],
   "source": [
    "def LGR(c):\n",
    "# TODO: Load the Iris dataset using sklearn.\n",
    "    X, y = load_iris(return_X_y=True)\n",
    "    # Split train/test sets.\n",
    "    X_train, X_test, y_train, y_test = train_test_split(X, y, test_size=0.3, shuffle = True, random_state = 3)\n",
    "        # TODO: Initialize a logistic regression model for the Iris dataset.\n",
    "    # Here, you only need to tune the inverse regularization parameter `C`. \n",
    "    # Please set `random_state` to 3.\n",
    "    lr = LogisticRegression(random_state=3,C=c, max_iter=1000)\n",
    "        # Start training.\n",
    "    lr.fit(X_train, y_train)\n",
    "     # Print the training error.\n",
    "    return(lr.score(X_train, y_train),lr.score(X_test,y_test))\n",
    "    # TODO: Print the testing error\n"
   ]
  },
  {
   "cell_type": "code",
   "execution_count": 134,
   "metadata": {},
   "outputs": [
    {
     "name": "stdout",
     "output_type": "stream",
     "text": [
      "C=0.001, Train Error=0.7523809523809524, Test Error=0.8444444444444444\n",
      "C=0.002, Train Error=0.7904761904761904, Test Error=0.8444444444444444\n",
      "C=0.003, Train Error=0.7904761904761904, Test Error=0.8444444444444444\n",
      "C=0.004, Train Error=0.7904761904761904, Test Error=0.8444444444444444\n",
      "C=0.005, Train Error=0.819047619047619, Test Error=0.8444444444444444\n",
      "C=0.006, Train Error=0.8380952380952381, Test Error=0.8444444444444444\n",
      "C=0.007, Train Error=0.8476190476190476, Test Error=0.8444444444444444\n",
      "C=0.008, Train Error=0.8571428571428571, Test Error=0.8666666666666667\n",
      "C=0.009, Train Error=0.8666666666666667, Test Error=0.8666666666666667\n",
      "C=0.010, Train Error=0.8666666666666667, Test Error=0.8666666666666667\n",
      "C=0.020, Train Error=0.9047619047619048, Test Error=0.8666666666666667\n",
      "C=0.030, Train Error=0.9238095238095239, Test Error=0.9111111111111111\n",
      "C=0.040, Train Error=0.9333333333333333, Test Error=0.9333333333333333\n",
      "C=0.050, Train Error=0.9333333333333333, Test Error=0.9333333333333333\n",
      "C=0.060, Train Error=0.9333333333333333, Test Error=0.9333333333333333\n",
      "C=0.070, Train Error=0.9333333333333333, Test Error=0.9333333333333333\n",
      "C=0.080, Train Error=0.9333333333333333, Test Error=0.9555555555555556\n",
      "C=0.090, Train Error=0.9333333333333333, Test Error=0.9777777777777777\n",
      "C=0.100, Train Error=0.9523809523809523, Test Error=0.9777777777777777\n",
      "C=0.200, Train Error=0.9523809523809523, Test Error=0.9777777777777777\n",
      "C=0.300, Train Error=0.9619047619047619, Test Error=0.9777777777777777\n",
      "C=0.400, Train Error=0.9619047619047619, Test Error=0.9777777777777777\n",
      "C=0.500, Train Error=0.9714285714285714, Test Error=0.9777777777777777\n",
      "C=0.600, Train Error=0.9714285714285714, Test Error=0.9777777777777777\n",
      "C=0.700, Train Error=0.9714285714285714, Test Error=0.9777777777777777\n",
      "C=0.800, Train Error=0.9714285714285714, Test Error=0.9777777777777777\n",
      "C=0.900, Train Error=0.9714285714285714, Test Error=0.9777777777777777\n",
      "C=1.000, Train Error=0.9714285714285714, Test Error=0.9777777777777777\n",
      "C=2.000, Train Error=0.9714285714285714, Test Error=0.9777777777777777\n",
      "C=3.000, Train Error=0.9904761904761905, Test Error=0.9777777777777777\n",
      "C=4.000, Train Error=0.9904761904761905, Test Error=0.9555555555555556\n",
      "C=5.000, Train Error=0.9904761904761905, Test Error=0.9555555555555556\n",
      "C=6.000, Train Error=0.9904761904761905, Test Error=0.9555555555555556\n",
      "C=7.000, Train Error=0.9904761904761905, Test Error=0.9555555555555556\n",
      "C=8.000, Train Error=0.9904761904761905, Test Error=0.9555555555555556\n",
      "C=9.000, Train Error=0.9904761904761905, Test Error=0.9555555555555556\n",
      "C=10.000, Train Error=0.9904761904761905, Test Error=0.9555555555555556\n",
      "C=20.000, Train Error=0.9904761904761905, Test Error=0.9555555555555556\n",
      "C=30.000, Train Error=0.9904761904761905, Test Error=0.9555555555555556\n",
      "C=40.000, Train Error=0.9904761904761905, Test Error=0.9555555555555556\n",
      "C=50.000, Train Error=0.9809523809523809, Test Error=0.9555555555555556\n",
      "C=60.000, Train Error=0.9809523809523809, Test Error=0.9333333333333333\n",
      "C=70.000, Train Error=0.9809523809523809, Test Error=0.9333333333333333\n",
      "C=80.000, Train Error=0.9809523809523809, Test Error=0.9333333333333333\n",
      "C=90.000, Train Error=0.9809523809523809, Test Error=0.9333333333333333\n"
     ]
    }
   ],
   "source": [
    "def plot_graph():\n",
    "    C=[]\n",
    "    for i in [0.001,0.01,0.1,1,10]:\n",
    "        for j in range(1,10):\n",
    "            C.append(i*j)\n",
    "    Train_Error=[LGR(i)[0] for i in C]\n",
    "    Test_Error=[LGR(i)[1] for i in C]\n",
    "    for i in range(len(C)):\n",
    "        print(f\"C={C[i]:.3f}, Train Error={Train_Error[i]}, Test Error={Test_Error[i]}\")\n",
    "    \n",
    "plot_graph()\n",
    "            "
   ]
  },
  {
   "cell_type": "code",
   "execution_count": 105,
   "metadata": {},
   "outputs": [],
   "source": [
    "# TODO: Load the Wine dataset.\n",
    "X, y = load_wine(return_X_y=True)\n",
    "X_train, X_test, y_train, y_test = train_test_split(X, y, test_size=0.3, shuffle = True, random_state = 1)"
   ]
  },
  {
   "cell_type": "code",
   "execution_count": 95,
   "metadata": {},
   "outputs": [],
   "source": [
    "# TODO: Initialize a logistic regression model.\n",
    "# Here, you only need to tune the inverse regularization parameter `C`. \n",
    "# Please set `random_state` to 3.\n",
    "lr = LogisticRegression(random_state=3, C=1., max_iter=10000, solver='lbfgs')"
   ]
  },
  {
   "cell_type": "code",
   "execution_count": 96,
   "metadata": {},
   "outputs": [
    {
     "data": {
      "text/html": [
       "<style>#sk-container-id-29 {color: black;background-color: white;}#sk-container-id-29 pre{padding: 0;}#sk-container-id-29 div.sk-toggleable {background-color: white;}#sk-container-id-29 label.sk-toggleable__label {cursor: pointer;display: block;width: 100%;margin-bottom: 0;padding: 0.3em;box-sizing: border-box;text-align: center;}#sk-container-id-29 label.sk-toggleable__label-arrow:before {content: \"▸\";float: left;margin-right: 0.25em;color: #696969;}#sk-container-id-29 label.sk-toggleable__label-arrow:hover:before {color: black;}#sk-container-id-29 div.sk-estimator:hover label.sk-toggleable__label-arrow:before {color: black;}#sk-container-id-29 div.sk-toggleable__content {max-height: 0;max-width: 0;overflow: hidden;text-align: left;background-color: #f0f8ff;}#sk-container-id-29 div.sk-toggleable__content pre {margin: 0.2em;color: black;border-radius: 0.25em;background-color: #f0f8ff;}#sk-container-id-29 input.sk-toggleable__control:checked~div.sk-toggleable__content {max-height: 200px;max-width: 100%;overflow: auto;}#sk-container-id-29 input.sk-toggleable__control:checked~label.sk-toggleable__label-arrow:before {content: \"▾\";}#sk-container-id-29 div.sk-estimator input.sk-toggleable__control:checked~label.sk-toggleable__label {background-color: #d4ebff;}#sk-container-id-29 div.sk-label input.sk-toggleable__control:checked~label.sk-toggleable__label {background-color: #d4ebff;}#sk-container-id-29 input.sk-hidden--visually {border: 0;clip: rect(1px 1px 1px 1px);clip: rect(1px, 1px, 1px, 1px);height: 1px;margin: -1px;overflow: hidden;padding: 0;position: absolute;width: 1px;}#sk-container-id-29 div.sk-estimator {font-family: monospace;background-color: #f0f8ff;border: 1px dotted black;border-radius: 0.25em;box-sizing: border-box;margin-bottom: 0.5em;}#sk-container-id-29 div.sk-estimator:hover {background-color: #d4ebff;}#sk-container-id-29 div.sk-parallel-item::after {content: \"\";width: 100%;border-bottom: 1px solid gray;flex-grow: 1;}#sk-container-id-29 div.sk-label:hover label.sk-toggleable__label {background-color: #d4ebff;}#sk-container-id-29 div.sk-serial::before {content: \"\";position: absolute;border-left: 1px solid gray;box-sizing: border-box;top: 0;bottom: 0;left: 50%;z-index: 0;}#sk-container-id-29 div.sk-serial {display: flex;flex-direction: column;align-items: center;background-color: white;padding-right: 0.2em;padding-left: 0.2em;position: relative;}#sk-container-id-29 div.sk-item {position: relative;z-index: 1;}#sk-container-id-29 div.sk-parallel {display: flex;align-items: stretch;justify-content: center;background-color: white;position: relative;}#sk-container-id-29 div.sk-item::before, #sk-container-id-29 div.sk-parallel-item::before {content: \"\";position: absolute;border-left: 1px solid gray;box-sizing: border-box;top: 0;bottom: 0;left: 50%;z-index: -1;}#sk-container-id-29 div.sk-parallel-item {display: flex;flex-direction: column;z-index: 1;position: relative;background-color: white;}#sk-container-id-29 div.sk-parallel-item:first-child::after {align-self: flex-end;width: 50%;}#sk-container-id-29 div.sk-parallel-item:last-child::after {align-self: flex-start;width: 50%;}#sk-container-id-29 div.sk-parallel-item:only-child::after {width: 0;}#sk-container-id-29 div.sk-dashed-wrapped {border: 1px dashed gray;margin: 0 0.4em 0.5em 0.4em;box-sizing: border-box;padding-bottom: 0.4em;background-color: white;}#sk-container-id-29 div.sk-label label {font-family: monospace;font-weight: bold;display: inline-block;line-height: 1.2em;}#sk-container-id-29 div.sk-label-container {text-align: center;}#sk-container-id-29 div.sk-container {/* jupyter's `normalize.less` sets `[hidden] { display: none; }` but bootstrap.min.css set `[hidden] { display: none !important; }` so we also need the `!important` here to be able to override the default hidden behavior on the sphinx rendered scikit-learn.org. See: https://github.com/scikit-learn/scikit-learn/issues/21755 */display: inline-block !important;position: relative;}#sk-container-id-29 div.sk-text-repr-fallback {display: none;}</style><div id=\"sk-container-id-29\" class=\"sk-top-container\"><div class=\"sk-text-repr-fallback\"><pre>LogisticRegression(max_iter=10000)</pre><b>In a Jupyter environment, please rerun this cell to show the HTML representation or trust the notebook. <br />On GitHub, the HTML representation is unable to render, please try loading this page with nbviewer.org.</b></div><div class=\"sk-container\" hidden><div class=\"sk-item\"><div class=\"sk-estimator sk-toggleable\"><input class=\"sk-toggleable__control sk-hidden--visually\" id=\"sk-estimator-id-29\" type=\"checkbox\" checked><label for=\"sk-estimator-id-29\" class=\"sk-toggleable__label sk-toggleable__label-arrow\">LogisticRegression</label><div class=\"sk-toggleable__content\"><pre>LogisticRegression(max_iter=10000)</pre></div></div></div></div></div>"
      ],
      "text/plain": [
       "LogisticRegression(max_iter=10000)"
      ]
     },
     "execution_count": 96,
     "metadata": {},
     "output_type": "execute_result"
    }
   ],
   "source": [
    "# Start training.\n",
    "lr.fit(X_train, y_train)"
   ]
  },
  {
   "cell_type": "code",
   "execution_count": 97,
   "metadata": {},
   "outputs": [
    {
     "name": "stdout",
     "output_type": "stream",
     "text": [
      "0.9919354838709677\n",
      "0.9629629629629629\n"
     ]
    }
   ],
   "source": [
    "# Print the training error.\n",
    "print(lr.score(X_train, y_train))\n",
    "# TODO: Print the testing error.\n",
    "print(lr.score(X_test,y_test))"
   ]
  },
  {
   "cell_type": "code",
   "execution_count": 94,
   "metadata": {},
   "outputs": [],
   "source": [
    "# Now, we will start to train random forest models on the Iris and Breast Cancer datasets."
   ]
  },
  {
   "cell_type": "code",
   "execution_count": null,
   "metadata": {},
   "outputs": [],
   "source": [
    "# Load the Iris dataset for training a random forest model.\n",
    "X, y = load_wine(return_X_y=True)\n",
    "X_train, X_test, y_train, y_test = train_test_split(X, y, test_size=0.3, shuffle = True, random_state = 1)"
   ]
  },
  {
   "cell_type": "code",
   "execution_count": null,
   "metadata": {},
   "outputs": [],
   "source": [
    "# Initialize a random forest model using sklearn.\n",
    "# Here, you need to take turns to tune max_depth/max_samples for showing cases of underfitting/overfitting.\n",
    "# Note that when you tune max_depth, please leave max_samples unchanged!\n",
    "# Similarly, when you tune max_samples, leave max_depth unchanged!\n",
    "# Please set `random_state` to 3 and feel free to set the value of `n_estimators`.\n",
    "rf = ..."
   ]
  },
  {
   "cell_type": "code",
   "execution_count": null,
   "metadata": {},
   "outputs": [],
   "source": [
    "# Start training.\n",
    "rf.fit(X_train, y_train)"
   ]
  },
  {
   "cell_type": "code",
   "execution_count": null,
   "metadata": {},
   "outputs": [],
   "source": [
    "# Print the training error.\n",
    "1 - rf.score(X_train, y_train)\n",
    "# TODO: Print the testing set error.\n",
    "..."
   ]
  },
  {
   "cell_type": "code",
   "execution_count": null,
   "metadata": {},
   "outputs": [],
   "source": [
    "# Load the Breast Cancer dataset.\n",
    "X, y = ...\n",
    "X_train, X_test, y_train, y_test = train_test_split(X, y, test_size=0.3, shuffle = True, random_state = 3)"
   ]
  },
  {
   "cell_type": "code",
   "execution_count": null,
   "metadata": {},
   "outputs": [],
   "source": [
    "# TODO: Initialize a random forest model for the Breast Cancer dataset.\n",
    "rf = ..."
   ]
  },
  {
   "cell_type": "code",
   "execution_count": null,
   "metadata": {},
   "outputs": [],
   "source": [
    "# Start training.\n",
    "rf.fit(X_train, y_train)"
   ]
  },
  {
   "cell_type": "code",
   "execution_count": null,
   "metadata": {},
   "outputs": [],
   "source": [
    "# Print the training error.\n",
    "1 - rf.score(X_train, y_train)\n",
    "# TODO: Print the testing error.\n",
    "..."
   ]
  }
 ],
 "metadata": {
  "kernelspec": {
   "display_name": "Python 3 (ipykernel)",
   "language": "python",
   "name": "python3"
  },
  "language_info": {
   "codemirror_mode": {
    "name": "ipython",
    "version": 3
   },
   "file_extension": ".py",
   "mimetype": "text/x-python",
   "name": "python",
   "nbconvert_exporter": "python",
   "pygments_lexer": "ipython3",
   "version": "3.9.13"
  }
 },
 "nbformat": 4,
 "nbformat_minor": 4
}
